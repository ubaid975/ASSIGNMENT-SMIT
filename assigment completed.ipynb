{
 "cells": [
  {
   "cell_type": "raw",
   "metadata": {},
   "source": [
    "1) A company decided to give bonus of 5% to employee if his/her year of service is more than 5 years.\n",
    "Ask user for their salary and year of service and print the net bonus amount."
   ]
  },
  {
   "cell_type": "code",
   "execution_count": null,
   "metadata": {},
   "outputs": [],
   "source": [
    "a=int(input(\"ENTER YOUR SALARY\"))\n",
    "b=(a*0.5)\n",
    "print(\"BONUS OF ONE YEAR\",b)\n",
    "c=(b*5)\n",
    "print(\"BONUS OF FIVE YEAR\",c)"
   ]
  },
  {
   "cell_type": "markdown",
   "metadata": {},
   "source": [
    "\n",
    "2) Write a program to check whether a person is eligible for voting or not. (accept age from user) if age is greater than 17 eligible otherwise not eligible"
   ]
  },
  {
   "cell_type": "code",
   "execution_count": 2,
   "metadata": {},
   "outputs": [
    {
     "name": "stdout",
     "output_type": "stream",
     "text": [
      "ENTER YOUR AGE12\n",
      "not eligible\n"
     ]
    }
   ],
   "source": [
    "age=int(input(\"ENTER YOUR AGE\"))\n",
    "if age>17:\n",
    "    print(\"eligible\")\n",
    "else:\n",
    "    print(\"not eligible\")"
   ]
  },
  {
   "cell_type": "markdown",
   "metadata": {},
   "source": [
    "\n",
    "3) Write a program to check whether a number entered by user is even or odd."
   ]
  },
  {
   "cell_type": "code",
   "execution_count": 11,
   "metadata": {},
   "outputs": [
    {
     "name": "stdout",
     "output_type": "stream",
     "text": [
      "ENTER THE NUMBER1\n",
      "number is odd\n"
     ]
    }
   ],
   "source": [
    "even=int(input(\"ENTER THE NUMBER\"))\n",
    "if (even%2==0):\n",
    "    print(\"number is even\")\n",
    "else:\n",
    "    print(\"number is odd\")\n",
    "    \n",
    "        "
   ]
  },
  {
   "cell_type": "markdown",
   "metadata": {},
   "source": [
    "4) Write a program to check whether a number is divisible by 7 or not.\n",
    "Show Answer"
   ]
  },
  {
   "cell_type": "code",
   "execution_count": 13,
   "metadata": {},
   "outputs": [
    {
     "name": "stdout",
     "output_type": "stream",
     "text": [
      "enter the number20\n",
      "number is not divisible by 7\n"
     ]
    }
   ],
   "source": [
    "divisible=int(input(\"enter the number\"))\n",
    "if (divisible%7==0):\n",
    "    print(\"number is divisinle by 7\")\n",
    "else:\n",
    "    print(\"number is not divisible by 7\")"
   ]
  },
  {
   "cell_type": "raw",
   "metadata": {},
   "source": [
    "5) Write a program to display \n",
    "\"Hello\" if a number entered by user is a multiple of five , otherwise print \"Bye\"."
   ]
  },
  {
   "cell_type": "code",
   "execution_count": 27,
   "metadata": {},
   "outputs": [
    {
     "name": "stdout",
     "output_type": "stream",
     "text": [
      "HELLOHELLOHELLOHELLOHELLO\n"
     ]
    }
   ],
   "source": [
    "hello=\"HELLO\"\n",
    "print(hello*5,sep=\"     \")"
   ]
  },
  {
   "cell_type": "raw",
   "metadata": {},
   "source": [
    "7) Write a program to display the last digit of a number.\n"
   ]
  },
  {
   "cell_type": "code",
   "execution_count": 41,
   "metadata": {},
   "outputs": [
    {
     "name": "stdout",
     "output_type": "stream",
     "text": [
      "8\n"
     ]
    }
   ],
   "source": [
    "num=3216740458\n",
    "num1=num%10\n",
    "print(num1)"
   ]
  },
  {
   "cell_type": "raw",
   "metadata": {},
   "source": [
    "Q8. Write a program to check whether the last digit of a number( entered by user ) is \n",
    "divisible by 3 or not."
   ]
  },
  {
   "cell_type": "code",
   "execution_count": 45,
   "metadata": {},
   "outputs": [
    {
     "name": "stdout",
     "output_type": "stream",
     "text": [
      "enter the number542\n",
      "number is not divisible by 3\n"
     ]
    }
   ],
   "source": [
    "user=int(input(\"enter the number\"))\n",
    "user1=user%10\n",
    "if user%3==0:\n",
    "    print(\"number is divisible by 3\")\n",
    "else:\n",
    "    print(\"number is not divisible by 3\")\n"
   ]
  },
  {
   "cell_type": "raw",
   "metadata": {},
   "source": [
    "9) Take values of length and breadth of a rectangle from user and print if it is square or rectangle."
   ]
  },
  {
   "cell_type": "code",
   "execution_count": 2,
   "metadata": {},
   "outputs": [
    {
     "name": "stdout",
     "output_type": "stream",
     "text": [
      "ENTER THE LENGTH OF rectriangle6.8\n",
      "ENTER THE breadth of rectiangle6.5\n",
      "this is a rectriangle\n"
     ]
    }
   ],
   "source": [
    "rec=float(input(\"ENTER THE LENGTH OF rectriangle\"))\n",
    "rec1=float(input(\"ENTER THE breadth of rectiangle\"))\n",
    "if rec==rec1:\n",
    "    print(\"this is a square\")\n",
    "else:\n",
    "    print(\"this is a rectriangle\")"
   ]
  },
  {
   "cell_type": "raw",
   "metadata": {},
   "source": [
    "10) Take two int values from user and print greatest among them."
   ]
  },
  {
   "cell_type": "code",
   "execution_count": 6,
   "metadata": {},
   "outputs": [
    {
     "name": "stdout",
     "output_type": "stream",
     "text": [
      "enter the number66\n",
      "enter the number33\n",
      "your greater num is 66\n"
     ]
    }
   ],
   "source": [
    "one=int(input(\"enter the number\"))\n",
    "two=int(input(\"enter the number\"))\n",
    "if one>two:\n",
    "    print(\"your greater num is\",one)\n",
    "else:\n",
    "    print(\"your greater num is\",two)"
   ]
  },
  {
   "cell_type": "raw",
   "metadata": {},
   "source": [
    "11) A shop will give discount of 10% if the cost of purchased quantity is more than 1000.\n",
    "Ask user for quantity\n",
    "Suppose, one unit will cost 100.\n",
    "Judge and print total cost for user."
   ]
  },
  {
   "cell_type": "code",
   "execution_count": 7,
   "metadata": {},
   "outputs": [
    {
     "name": "stdout",
     "output_type": "stream",
     "text": [
      "enter paint price665\n",
      "enter shirt price334\n",
      "enter cap price4334\n",
      "TOTAL AMOUNT 5333\n",
      "DISCOUNT 533.3000000000001\n",
      "GRAND TOTAL 4799.7\n"
     ]
    }
   ],
   "source": [
    "paint=int(input(\"enter paint price\"))\n",
    "shirt=int(input(\"enter shirt price\"))\n",
    "cap=int(input(\"enter cap price\"))\n",
    "total_amount=paint+shirt+cap\n",
    "discount=total_amount*0.10\n",
    "print(\"TOTAL AMOUNT\",total_amount)\n",
    "print(\"DISCOUNT\",discount)\n",
    "print(\"GRAND TOTAL\",total_amount-discount)"
   ]
  },
  {
   "cell_type": "raw",
   "metadata": {},
   "source": [
    "12) A school has following rules for grading system:\n",
    "\n",
    "a. Below 25 - F\n",
    "\n",
    "b. 25 to 45 - E\n",
    "\n",
    "c. 45 to 50 - D\n",
    "\n",
    "d. 50 to 60 - C\n",
    "\n",
    "e. 60 to 80 - B\n",
    "\n",
    "f. Above 80 - A\n",
    "\n",
    "Ask user to enter marks and print the corresponding grade."
   ]
  },
  {
   "cell_type": "code",
   "execution_count": 9,
   "metadata": {},
   "outputs": [
    {
     "name": "stdout",
     "output_type": "stream",
     "text": [
      "enter your percentage78\n",
      "your grade is B\n"
     ]
    }
   ],
   "source": [
    "per=int(input(\"enter your percentage\"))\n",
    "if per>80 and per<100:\n",
    "    print(\"your grade is A\")\n",
    "elif per>60 and per<80:\n",
    "    print(\"your grade is B\")\n",
    "elif per>50 and per<60:\n",
    "    print(\"your grade is C\")\n",
    "elif per>45 and per<50:\n",
    "    print(\"your grade is D\")\n",
    "elif per>25 and per<45:\n",
    "    print(\"your grade is E\")\n",
    "else:\n",
    "    print(\"fail\")"
   ]
  },
  {
   "cell_type": "raw",
   "metadata": {},
   "source": [
    "14)A student will not be allowed to sit in exam if his/her attendence is less than 75%.\n",
    "\n",
    "Take following input from user\n",
    "\n",
    "Number of classes held\n",
    "\n",
    "Number of classes attended.\n",
    "\n",
    "And print\n",
    "\n",
    "percentage of class attended\n",
    "\n",
    "Is student is allowed to sit in exam or not.\n"
   ]
  },
  {
   "cell_type": "code",
   "execution_count": 16,
   "metadata": {},
   "outputs": [
    {
     "name": "stdout",
     "output_type": "stream",
     "text": [
      "NAME OF CLASS HELD30\n",
      "ENTER YOUR ATTENDED3\n",
      "PERCENTAGE 10.0\n",
      "you are not allowed to sit exam\n"
     ]
    }
   ],
   "source": [
    "held=int(input(\"NAME OF CLASS HELD\"))\n",
    "attendence=int(input(\"ENTER YOUR ATTENDED\"))\n",
    "perc=(attendence/held*100)\n",
    "print(\"PERCENTAGE\",perc)\n",
    "if perc>=75:\n",
    "    print(\"you are allowed to sit exam\")\n",
    "else:\n",
    "    print(\"you are not allowed to sit exam\")"
   ]
  },
  {
   "cell_type": "raw",
   "metadata": {},
   "source": [
    "15) Modify the above question to allow student to sit if he/she has medical cause. Ask user if he/she has medical cause or not ( 'Y' or 'N' ) and print accordingly."
   ]
  },
  {
   "cell_type": "code",
   "execution_count": null,
   "metadata": {},
   "outputs": [],
   "source": [
    "are=\"you are a medical cause\"\n",
    "print(are)\n",
    "medi=input(\"ENTER y or n\")\n",
    "if medi==\"y\":\n",
    "    print(\"i have allowed in medical cause\")\n",
    "else:\n",
    "    print(\"i have not allowed in medical cause\")\n"
   ]
  },
  {
   "cell_type": "raw",
   "metadata": {},
   "source": [
    "16) Write a program to check if a year is leap year or not.\n",
    "\n",
    "If a year is divisible by 4 then it is leap year but if the year is century year like 2000, 1900, 2100 then it must be divisible by 400."
   ]
  },
  {
   "cell_type": "code",
   "execution_count": 28,
   "metadata": {},
   "outputs": [
    {
     "name": "stdout",
     "output_type": "stream",
     "text": [
      "Enter a year: 2004\n",
      "2004 is a leap year\n"
     ]
    }
   ],
   "source": [
    "year = int(input(\"Enter a year: \"))                                 \n",
    "if (year%4==0 and year%100!=0)or(year%400==0):\n",
    "    print(year,\"is a leap year\")\n",
    "else:    \n",
    "     print(year,\"is not a leap year\")\n",
    "\n",
    "\n"
   ]
  },
  {
   "cell_type": "raw",
   "metadata": {},
   "source": [
    "17) Ask user to enter age, gender ( M or F ), marital status ( Y or N ) and then using following rules print their place of service.\n",
    "\n",
    "if employee is female, then she will work only in urban areas.\n",
    "\n",
    "if employee is a male and age is in between 20 to 40 then he may work in anywhere\n",
    "\n",
    "if employee is male and age is in between 40 t0 60 then he will work in urban areas only.\n",
    "\n",
    "And any other input of age should print \"ERROR\""
   ]
  },
  {
   "cell_type": "code",
   "execution_count": 23,
   "metadata": {},
   "outputs": [
    {
     "name": "stdout",
     "output_type": "stream",
     "text": [
      "enter your age21\n",
      "marital status_ans is Y,Ny\n",
      "gender_ans is M,fm\n",
      "he may work anywhere\n"
     ]
    }
   ],
   "source": [
    "age=int(input(\"enter your age\"))\n",
    "status=input(\"marital status_ans is Y,N\")\n",
    "mat=input(\"gender_ans is M,f\")\n",
    "if mat==(\"f\"):\n",
    "    print(\"he only urban areas\")\n",
    "elif mat==\"m\"and age>=20 and age<=40:\n",
    "    print(\"he may work anywhere\")\n",
    "elif mat==\"m\"and age>=40 and age<=60:\n",
    "    print(\"he will work in urban areas\")\n",
    "else:\n",
    "    print(\"error\")\n",
    "\n",
    "   "
   ]
  },
  {
   "cell_type": "code",
   "execution_count": null,
   "metadata": {},
   "outputs": [],
   "source": []
  },
  {
   "cell_type": "raw",
   "metadata": {},
   "source": [
    "6) Write a program to calculate the electricity bill (accept number of unit from user) according to the following criteria :\n",
    "     Unit                                                     Price  \n",
    "uptp 100 units                                             no charge\n",
    "Next 200 units                                              Rs 5 per unit\n",
    "After 200 units                                             Rs 10 per unit\n",
    "(For example if input unit is 350 than total bill amount is Rs.3500\n",
    "(For example if input unit is 97 than total bill amount is Rs.0\n",
    "(For example if input unit is 150 than total bill amount is Rs.750"
   ]
  },
  {
   "cell_type": "raw",
   "metadata": {},
   "source": [
    "13) Take input of age of 3 people by user and determine oldest and youngest among them."
   ]
  },
  {
   "cell_type": "code",
   "execution_count": 14,
   "metadata": {},
   "outputs": [
    {
     "name": "stdout",
     "output_type": "stream",
     "text": [
      "enter unit102\n",
      "unit is 102 total bill is 10\n"
     ]
    }
   ],
   "source": [
    "unit=int(input(\"enter unit\"))\n",
    "if unit<=100:\n",
    "    total_bill=0\n",
    "elif unit<200:\n",
    "    total_bill=(unit-100)*5\n",
    "else:\n",
    "    total_bill=(unit*10)\n",
    "print(\"unit is\",unit,\"total bill is\",total_bill)    \n",
    "\n",
    "\n",
    "    \n"
   ]
  },
  {
   "cell_type": "code",
   "execution_count": null,
   "metadata": {},
   "outputs": [],
   "source": []
  },
  {
   "cell_type": "code",
   "execution_count": null,
   "metadata": {},
   "outputs": [],
   "source": []
  },
  {
   "cell_type": "code",
   "execution_count": null,
   "metadata": {},
   "outputs": [],
   "source": []
  }
 ],
 "metadata": {
  "kernelspec": {
   "display_name": "Python 3 (ipykernel)",
   "language": "python",
   "name": "python3"
  },
  "language_info": {
   "codemirror_mode": {
    "name": "ipython",
    "version": 3
   },
   "file_extension": ".py",
   "mimetype": "text/x-python",
   "name": "python",
   "nbconvert_exporter": "python",
   "pygments_lexer": "ipython3",
   "version": "3.11.5"
  }
 },
 "nbformat": 4,
 "nbformat_minor": 2
}
